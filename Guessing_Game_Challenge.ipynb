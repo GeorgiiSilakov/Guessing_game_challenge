{
 "cells": [
  {
   "cell_type": "markdown",
   "metadata": {},
   "source": [
    "Загадываю число от 1 до 100"
   ]
  },
  {
   "cell_type": "code",
   "execution_count": null,
   "metadata": {},
   "outputs": [],
   "source": [
    "import random\n",
    "num = random.randint(0, 100)\n"
   ]
  },
  {
   "cell_type": "markdown",
   "metadata": {},
   "source": [
    "Введение в игру и описание правил"
   ]
  },
  {
   "cell_type": "code",
   "execution_count": null,
   "metadata": {},
   "outputs": [],
   "source": [
    "print(\"ДОБРО ПОЖАЛОВАТЬ В ИГРУ УГАДАЙ ЧИСЛО!\")\n",
    "print(\"Я загадал число от 1 до 100\")\n",
    "print(\"Если Ваша отгадка дальше чем на 10 от моего числа, то я скажу вам ХОЛОДНО\")\n",
    "print(\"Если Ваша отгадка ближе чем на 10 от моего числа, то я скажу вам ТЕПЛО\")\n",
    "print(\"Если Ваша отгадка дальше чем предыдущая отгадка, то я скажу вам ХОЛОДНЕЕ\")\n",
    "print(\"Если Ваша отгадка ближе чем предыдущая отгадка, то я скажу вам ТЕПЛЕЕ\")\n",
    "print(\"НАЧНЁМ ИГРУ!\")\n"
   ]
  },
  {
   "cell_type": "markdown",
   "metadata": {},
   "source": [
    "Начинаем угадывать :)"
   ]
  },
  {
   "cell_type": "code",
   "execution_count": null,
   "metadata": {},
   "outputs": [],
   "source": [
    "guesses = [0]\n",
    "\n",
    "while True:\n",
    "\n",
    "    x = int(input(\"Я загадал число от 1 до 100. \\n Отгадайте:)\"))\n",
    "\n",
    "\n",
    "    if x < 1 or x > 100:\n",
    "        print('Ваше число вне диапазона! Попробуйте еще :)')\n",
    "        continue\n",
    "\n",
    "    if x == num:\n",
    "        print(f'Поздравляю, Вы угадали, это заняло {len(guesses)} попыток!')\n",
    "        break\n",
    "\n",
    "    guesses.append(x)\n",
    "\n",
    "\n",
    "    if guesses[-2]:\n",
    "        if abs(num - x) < abs(num - guesses[-2]):\n",
    "            print('Теплее')\n",
    "        else:\n",
    "            print('Холоднее')\n",
    "\n",
    "    else:\n",
    "        if abs(num - x) <= 10:\n",
    "            print('Тепло')\n",
    "        else:\n",
    "            print('Холодно')\n"
   ]
  }
 ],
 "metadata": {
  "kernelspec": {
   "display_name": "base",
   "language": "python",
   "name": "python3"
  },
  "language_info": {
   "name": "python",
   "version": "3.11.4"
  }
 },
 "nbformat": 4,
 "nbformat_minor": 2
}
